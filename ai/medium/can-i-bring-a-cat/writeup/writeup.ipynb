{
 "cells": [
  {
   "metadata": {},
   "cell_type": "markdown",
   "source": "# AI medium challenge writeup",
   "id": "54177107e45bd13"
  },
  {
   "metadata": {},
   "cell_type": "markdown",
   "source": "Importing the libraries",
   "id": "99a1ffa780b49e8b"
  },
  {
   "cell_type": "code",
   "id": "initial_id",
   "metadata": {
    "collapsed": true,
    "ExecuteTime": {
     "end_time": "2024-10-22T06:35:28.644691Z",
     "start_time": "2024-10-22T06:35:28.641114Z"
    }
   },
   "source": [
    "import os\n",
    "os.environ['TF_CPP_MIN_LOG_LEVEL'] = '1'\n",
    "\n",
    "import numpy as np\n",
    "from PIL import Image\n",
    "import requests\n",
    "from io import BytesIO\n",
    "import base64\n",
    "\n",
    "from scipy.optimize import differential_evolution\n",
    "from scipy.optimize import OptimizeResult"
   ],
   "outputs": [],
   "execution_count": 18
  },
  {
   "metadata": {},
   "cell_type": "markdown",
   "source": "Here we set some properties about the server that we want to attack and the image size, which can be seen from the /get_image endpoint.",
   "id": "cd9364b985910e00"
  },
  {
   "metadata": {
    "ExecuteTime": {
     "end_time": "2024-10-22T06:35:29.468296Z",
     "start_time": "2024-10-22T06:35:29.464505Z"
    }
   },
   "cell_type": "code",
   "source": [
    "# Define the target URL. This is the URL of the server that we want to attack\n",
    "target_url = \"http://localhost:8000\"\n",
    "get_image_url = target_url + \"/get_image\"\n",
    "submit_image_url = target_url + \"/classify_image\"\n",
    "image_size = 64\n",
    "flag = \"\""
   ],
   "id": "b0128baf1e9eaf2a",
   "outputs": [],
   "execution_count": 19
  },
  {
   "metadata": {},
   "cell_type": "markdown",
   "source": [
    "This function will be used to alter the image by changing the pixel value at the given location.\n",
    "It will take the image to tamer and a \"pixel\" variable that contains both the location and the altered color of the image pixel."
   ],
   "id": "2a0b3cf9953e9564"
  },
  {
   "metadata": {
    "ExecuteTime": {
     "end_time": "2024-10-22T06:35:30.341978Z",
     "start_time": "2024-10-22T06:35:30.338276Z"
    }
   },
   "cell_type": "code",
   "source": [
    "def alter_image(image, pixel):\n",
    "    pixel = pixel.astype(int)\n",
    "    altered_image = np.copy(image)\n",
    "    # Change the pixel value at the given location\n",
    "    altered_image[pixel[0]][pixel[1]][0] = pixel[2]\n",
    "    altered_image[pixel[0]][pixel[1]][1] = pixel[3]\n",
    "    altered_image[pixel[0]][pixel[1]][2] = pixel[4]\n",
    "    \n",
    "    return altered_image"
   ],
   "id": "19ae7fb4715f0a79",
   "outputs": [],
   "execution_count": 20
  },
  {
   "metadata": {},
   "cell_type": "markdown",
   "source": [
    "Here we perform the evaluation of our tampered image. \n",
    "We will send the image to the server and get the probability that what we are taking in the office is a cat.\n",
    "If the response is 200, we will print all the response since the flag is hidden in there."
   ],
   "id": "5370848e1e4cfe21"
  },
  {
   "metadata": {
    "ExecuteTime": {
     "end_time": "2024-10-22T06:35:31.081382Z",
     "start_time": "2024-10-22T06:35:31.078206Z"
    }
   },
   "cell_type": "code",
   "source": [
    "def probability_of_being_a_cat(image, image_id):\n",
    "    global flag\n",
    "    img_str = base64.b64encode(image[0])\n",
    "    response = requests.post(submit_image_url, json={'image': img_str.decode('UTF-8'), 'id': image_id})\n",
    "    \n",
    "    if response.status_code == 200:\n",
    "        print(response.json())\n",
    "        flag = response.json()[\"detail\"][\"message\"]\n",
    "\n",
    "    try:\n",
    "        probability = float(response.json()[\"detail\"][\"probability_of_being_a_cat\"])\n",
    "    except:\n",
    "        raise Exception(\"Error in response: \" + str(response.json()))\n",
    "\n",
    "    return probability"
   ],
   "id": "6e37e43b61c5a894",
   "outputs": [],
   "execution_count": 21
  },
  {
   "metadata": {},
   "cell_type": "markdown",
   "source": [
    "Those functions are used by the differential evolution algorithm:\n",
    "- `predict_fn` is used to predict the probability of the image being a cat and is used as fitness function for the individuals of out DE algorithm. The algorithm will try to minimize the value returned by this function, trying to make the image less likely to be a cat and more likely to be a dog consequently.\n",
    "- `callback_fn` is used to stop the algorithm when the image is classified as a dog (i.e. the probability of being a cat is less than 0.5)."
   ],
   "id": "dd1599d474fe5bf2"
  },
  {
   "metadata": {
    "ExecuteTime": {
     "end_time": "2024-10-22T06:35:32.206137Z",
     "start_time": "2024-10-22T06:35:32.202342Z"
    }
   },
   "cell_type": "code",
   "source": [
    "def predict_fn(altered_pixel, args):\n",
    "    # Alter the image by the given amount\n",
    "    image = alter_image(args[0], altered_pixel)\n",
    "    return probability_of_being_a_cat([image], id)\n",
    "\n",
    "def callback_fn(intermediate_result: OptimizeResult):\n",
    "    return intermediate_result[\"fun\"] < 0.5"
   ],
   "id": "556d644de8f2e7d1",
   "outputs": [],
   "execution_count": 22
  },
  {
   "metadata": {},
   "cell_type": "markdown",
   "source": "Here starts the real attack: First we get the image from the server, parsing the image and the session id for submitting the image later in the process.",
   "id": "3a214f4a9878b806"
  },
  {
   "metadata": {
    "ExecuteTime": {
     "end_time": "2024-10-22T06:35:33.269649Z",
     "start_time": "2024-10-22T06:35:33.256263Z"
    }
   },
   "cell_type": "code",
   "source": [
    "# make request to get the image\n",
    "response = requests.get(get_image_url)\n",
    "\n",
    "response_json = response.json()\n",
    "\n",
    "# load the image and resize it\n",
    "id = response_json[\"id\"]\n",
    "image = Image.open(BytesIO(base64.b64decode(response_json[\"image\"])))\n",
    "image = image.resize((image_size, image_size))\n",
    "image = np.array([image]).astype(np.float32)"
   ],
   "id": "3068323235b80813",
   "outputs": [],
   "execution_count": 23
  },
  {
   "metadata": {},
   "cell_type": "markdown",
   "source": [
    "We will use the differential evolution algorithm to find the pixel that we need to alter in order to make the image classified as a dog.\n",
    "The parameters of the algorithm are:\n",
    "- `predict_fn`: the function that we want to minimize\n",
    "- `bounds`: the bounds of the pixel that we want to alter: the first two values are the x and y coordinates of the pixel, the other three values are the RGB values of the pixel\n",
    "- `args`: the arguments that will be passed to the `predict_fn` function. In this case, the image that we want to alter\n",
    "- `popsize`: the number of individuals in the population\n",
    "- `tol` and `atol`: the relative tolerance for the stopping criterion: we set them to 0 to disable the relative tolerance and use our custom stopping criterion in the `callback_fn` function\n",
    "- `maxiter`: the maximum number of iterations\n",
    "- `callback`: the function that will be called at each iteration: we use it to stop the algorithm when the image is classified as a dog"
   ],
   "id": "ede7a6eb4c78f96"
  },
  {
   "metadata": {},
   "cell_type": "code",
   "source": [
    "# Generate the bounds for the pixel that we need to alter\n",
    "bounds = [(0,image_size), (0,image_size), (0,255), (0,255), (0,255)]\n",
    "\n",
    "maxiter=10\n",
    "\n",
    "# Run the differential evolution algorithm\n",
    "attack_result = differential_evolution(\n",
    "    predict_fn, bounds, args=([image]), popsize=8, tol=0, atol=0, maxiter=maxiter, callback=callback_fn\n",
    ")\n",
    "print(attack_result)\n",
    "print(flag)"
   ],
   "id": "b345bb3d52c64012",
   "outputs": [],
   "execution_count": null
  },
  {
   "metadata": {},
   "cell_type": "markdown",
   "source": [
    "The DE algorithm will run until the image is classified as a dog or the maximum number of iterations is reached. If the image is classified as a dog, the algorithm will stop and print the result and the flag.\n",
    "\n",
    "Just for fun, here is our amazing dog that we finally took in the office:"
   ],
   "id": "2040bb22bc9bb432"
  },
  {
   "metadata": {
    "ExecuteTime": {
     "end_time": "2024-10-22T06:35:43.161614Z",
     "start_time": "2024-10-22T06:35:43.155273Z"
    }
   },
   "cell_type": "code",
   "source": [
    "# Alter the image with the pixel found by the differential evolution algorithm\n",
    "altered_image = alter_image(image[0], attack_result.x)\n",
    "altered_image = Image.fromarray(altered_image.astype(np.uint8))\n",
    "# Display the image\n",
    "altered_image.show()"
   ],
   "id": "c2081c217da0a607",
   "outputs": [],
   "execution_count": 25
  },
  {
   "metadata": {},
   "cell_type": "markdown",
   "source": "",
   "id": "77fcc6d3da9c253"
  }
 ],
 "metadata": {
  "kernelspec": {
   "display_name": "Python 3",
   "language": "python",
   "name": "python3"
  },
  "language_info": {
   "codemirror_mode": {
    "name": "ipython",
    "version": 2
   },
   "file_extension": ".py",
   "mimetype": "text/x-python",
   "name": "python",
   "nbconvert_exporter": "python",
   "pygments_lexer": "ipython2",
   "version": "2.7.6"
  }
 },
 "nbformat": 4,
 "nbformat_minor": 5
}
