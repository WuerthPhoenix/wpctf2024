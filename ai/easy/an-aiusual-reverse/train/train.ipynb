{
 "cells": [
  {
   "metadata": {},
   "cell_type": "markdown",
   "source": "# Training a simple and not really effective convolutional neural network for the AI easy Challenge",
   "id": "df7d6f88fbb1561b"
  },
  {
   "metadata": {},
   "cell_type": "markdown",
   "source": "This is the code used to train a simple convolutional neural network for the AI easy challenge. ",
   "id": "95037019bde93814"
  },
  {
   "metadata": {},
   "cell_type": "markdown",
   "source": "Authors: Emil Fazzi and Davide Sbetti ",
   "id": "47161455675b49fe"
  },
  {
   "metadata": {},
   "cell_type": "markdown",
   "source": "## Importing the necessary libraries",
   "id": "9063ba11f0cd3672"
  },
  {
   "cell_type": "code",
   "id": "initial_id",
   "metadata": {
    "collapsed": true,
    "ExecuteTime": {
     "end_time": "2024-10-16T14:13:58.983564Z",
     "start_time": "2024-10-16T14:13:57.638962Z"
    }
   },
   "source": [
    "import os\n",
    "os.environ['TF_CPP_MIN_LOG_LEVEL'] = '1'\n",
    "\n",
    "import tensorflow as tf\n",
    "import json"
   ],
   "outputs": [],
   "execution_count": 1
  },
  {
   "metadata": {},
   "cell_type": "markdown",
   "source": "## Loading the dataset",
   "id": "756c560a06ce4bb7"
  },
  {
   "metadata": {},
   "cell_type": "markdown",
   "source": "We load the dataset using the handy image_dataset_from_directory function, to already perform resizing of the images, conversion to grayscale and splitting between training and validation set. ",
   "id": "72b1facd4ed64176"
  },
  {
   "cell_type": "code",
   "id": "a0d85e153c64b598",
   "metadata": {
    "ExecuteTime": {
     "end_time": "2024-10-16T14:14:01.451680Z",
     "start_time": "2024-10-16T14:14:01.373208Z"
    }
   },
   "source": "training, validation = tf.keras.utils.image_dataset_from_directory(\"./dataset\", image_size=(300,300), subset=\"both\", validation_split=0.2, seed=123, label_mode=\"categorical\", color_mode=\"grayscale\")",
   "outputs": [
    {
     "name": "stdout",
     "output_type": "stream",
     "text": [
      "Found 100 files belonging to 2 classes.\n",
      "Using 80 files for training.\n",
      "Using 20 files for validation.\n"
     ]
    }
   ],
   "execution_count": 2
  },
  {
   "metadata": {},
   "cell_type": "markdown",
   "source": "## Defining the model",
   "id": "3cb98c8798bb6897"
  },
  {
   "metadata": {},
   "cell_type": "markdown",
   "source": "A simple conv neural network is used, with a single convolutional layer followed by a max pooling layer and a single dense layer.",
   "id": "780d3887c7c89e9d"
  },
  {
   "cell_type": "code",
   "id": "5fe5e2e6163a00a",
   "metadata": {
    "ExecuteTime": {
     "end_time": "2024-10-16T14:14:18.090567Z",
     "start_time": "2024-10-16T14:14:18.046211Z"
    }
   },
   "source": [
    "model = tf.keras.Sequential()\n",
    "model.add(tf.keras.layers.Input(shape=(300,300,1)))\n",
    "model.add(tf.keras.layers.Rescaling(scale=1./255.))\n",
    "model.add(tf.keras.layers.Conv2D(8, kernel_size=(2, 2), activation='gelu'))\n",
    "model.add(tf.keras.layers.MaxPooling2D())\n",
    "model.add(tf.keras.layers.Flatten())\n",
    "model.add(tf.keras.layers.Dense(4, activation='gelu'))\n",
    "model.add(tf.keras.layers.Dense(2, activation='softmax'))"
   ],
   "outputs": [],
   "execution_count": 3
  },
  {
   "metadata": {},
   "cell_type": "markdown",
   "source": "## Training the model",
   "id": "595f24b3aac2f7ef"
  },
  {
   "cell_type": "code",
   "id": "5bcc9d5adc7bc7c5",
   "metadata": {
    "ExecuteTime": {
     "end_time": "2024-10-16T14:14:21.115139Z",
     "start_time": "2024-10-16T14:14:19.693670Z"
    }
   },
   "source": [
    "optimizer = tf.keras.optimizers.Adam(learning_rate=0.001)\n",
    "model.compile(optimizer=optimizer, loss='categorical_crossentropy', metrics=['categorical_accuracy'])\n",
    "model.fit(training, validation_data=validation, epochs=2)"
   ],
   "outputs": [
    {
     "name": "stdout",
     "output_type": "stream",
     "text": [
      "Epoch 1/2\n",
      "\u001B[1m3/3\u001B[0m \u001B[32m━━━━━━━━━━━━━━━━━━━━\u001B[0m\u001B[37m\u001B[0m \u001B[1m1s\u001B[0m 126ms/step - categorical_accuracy: 0.5242 - loss: 4.5718 - val_categorical_accuracy: 0.6000 - val_loss: 0.7452\n",
      "Epoch 2/2\n",
      "\u001B[1m3/3\u001B[0m \u001B[32m━━━━━━━━━━━━━━━━━━━━\u001B[0m\u001B[37m\u001B[0m \u001B[1m0s\u001B[0m 82ms/step - categorical_accuracy: 0.4680 - loss: 0.7359 - val_categorical_accuracy: 0.6000 - val_loss: 0.6923\n"
     ]
    },
    {
     "data": {
      "text/plain": [
       "<keras.src.callbacks.history.History at 0x7fb657fa6510>"
      ]
     },
     "execution_count": 4,
     "metadata": {},
     "output_type": "execute_result"
    }
   ],
   "execution_count": 4
  },
  {
   "metadata": {},
   "cell_type": "markdown",
   "source": "Printing the class names",
   "id": "1299b681afc3a64"
  },
  {
   "cell_type": "code",
   "id": "6c9a317fd9ad5b40",
   "metadata": {
    "ExecuteTime": {
     "end_time": "2024-10-16T14:14:23.901633Z",
     "start_time": "2024-10-16T14:14:23.897709Z"
    }
   },
   "source": [
    "class_names = training.class_names\n",
    "print(class_names)"
   ],
   "outputs": [
    {
     "name": "stdout",
     "output_type": "stream",
     "text": [
      "['flag', 'not_a_flag']\n"
     ]
    }
   ],
   "execution_count": 5
  },
  {
   "metadata": {},
   "cell_type": "markdown",
   "source": "## Saving the model",
   "id": "daf0d588955f3c69"
  },
  {
   "cell_type": "code",
   "id": "0cde6669",
   "metadata": {
    "ExecuteTime": {
     "end_time": "2024-10-16T14:14:26.547446Z",
     "start_time": "2024-10-16T14:14:26.488143Z"
    }
   },
   "source": "model.save(\"model2.keras\")",
   "outputs": [],
   "execution_count": 6
  },
  {
   "metadata": {},
   "cell_type": "markdown",
   "source": "## Saving the optimizer config",
   "id": "62ce136e8b956cbb"
  },
  {
   "metadata": {
    "ExecuteTime": {
     "end_time": "2024-10-15T07:00:14.029886Z",
     "start_time": "2024-10-15T07:00:14.024677Z"
    }
   },
   "cell_type": "code",
   "source": [
    "with open(\"optimizer_config.json\", \"w\") as f:\n",
    "    json.dump(optimizer.get_config(), f)"
   ],
   "id": "daad241c0ad6c301",
   "outputs": [],
   "execution_count": 8
  }
 ],
 "metadata": {
  "kernelspec": {
   "display_name": "Python 3",
   "language": "python",
   "name": "python3"
  },
  "language_info": {
   "codemirror_mode": {
    "name": "ipython",
    "version": 3
   },
   "file_extension": ".py",
   "mimetype": "text/x-python",
   "name": "python",
   "nbconvert_exporter": "python",
   "pygments_lexer": "ipython3",
   "version": "3.9.19"
  }
 },
 "nbformat": 4,
 "nbformat_minor": 5
}
